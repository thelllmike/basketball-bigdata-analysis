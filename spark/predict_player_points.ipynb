{
 "cells": [
  {
   "cell_type": "code",
   "execution_count": null,
   "metadata": {
    "vscode": {
     "languageId": "plaintext"
    }
   },
   "outputs": [],
   "source": [
    "from pyspark.ml.regression import LinearRegression\n",
    "from pyspark.ml.feature import VectorAssembler\n",
    "from pyspark.sql import SparkSession\n",
    "\n",
    "spark = SparkSession.builder.appName(\"Predict Player Points\").getOrCreate()\n",
    "\n",
    "# Load data\n",
    "data = spark.read.csv(\"/input/basketball_ml_data.csv\", header=True, inferSchema=True)\n",
    "\n",
    "# Prepare features\n",
    "feature_columns = [\"team_strength\", \"opponent_strength\", \"previous_avg_points\"]\n",
    "assembler = VectorAssembler(inputCols=feature_columns, outputCol=\"features\")\n",
    "data = assembler.transform(data).select(\"features\", col(\"points\").alias(\"label\"))\n",
    "\n",
    "# Split data\n",
    "train_data, test_data = data.randomSplit([0.8, 0.2])\n",
    "\n",
    "# Train model\n",
    "lr = LinearRegression()\n",
    "lr_model = lr.fit(train_data)\n",
    "\n",
    "# Evaluate model\n",
    "predictions = lr_model.transform(test_data)\n",
    "predictions.select(\"features\", \"label\", \"prediction\").show()\n"
   ]
  }
 ],
 "metadata": {
  "language_info": {
   "name": "python"
  }
 },
 "nbformat": 4,
 "nbformat_minor": 2
}
