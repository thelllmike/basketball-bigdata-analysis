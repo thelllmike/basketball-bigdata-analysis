{
 "cells": [
  {
   "cell_type": "code",
   "execution_count": null,
   "metadata": {
    "vscode": {
     "languageId": "plaintext"
    }
   },
   "outputs": [],
   "source": [
    "from pyspark.sql.functions import col\n",
    "\n",
    "# Assuming the dataset has a column 'result' indicating win or loss\n",
    "matches_lost = df.filter(col(\"SCOREMARGIN\").contains('-')).groupBy(\"PLAYER1_TEAM_ABBREVIATION\").count()\n",
    "matches_lost.show()\n"
   ]
  }
 ],
 "metadata": {
  "language_info": {
   "name": "python"
  }
 },
 "nbformat": 4,
 "nbformat_minor": 2
}
