{
 "cells": [
  {
   "cell_type": "code",
   "execution_count": null,
   "metadata": {
    "vscode": {
     "languageId": "plaintext"
    }
   },
   "outputs": [],
   "source": [
    "from pyspark.sql import SparkSession\n",
    "from pyspark.sql.functions import col, sum, count, when\n",
    "\n",
    "spark = SparkSession.builder.appName(\"Basketball Analysis\").getOrCreate()\n",
    "\n",
    "# Load the dataset\n",
    "df = spark.read.csv(\"/input/basketball_pbp.csv\", header=True, inferSchema=True)\n",
    "\n",
    "# Calculate points per player per game\n",
    "player_scores = df.groupBy(\"GAME_ID\", \"PLAYER1_NAME\").agg(sum(\"SCORE\").alias(\"total_points\"))\n",
    "\n",
    "# Filter players who scored 40 or more points\n",
    "players_40_plus = player_scores.filter(col(\"total_points\") >= 40)\n",
    "\n",
    "# Calculate percentage\n",
    "total_players = player_scores.select(\"PLAYER1_NAME\").distinct().count()\n",
    "percentage = (players_40_plus.count() / total_players) * 100\n",
    "\n",
    "print(f\"Percentage of players scoring 40+ points: {percentage:.2f}%\")\n"
   ]
  }
 ],
 "metadata": {
  "language_info": {
   "name": "python"
  }
 },
 "nbformat": 4,
 "nbformat_minor": 2
}
